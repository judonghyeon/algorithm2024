{
 "cells": [
  {
   "cell_type": "markdown",
   "metadata": {},
   "source": [
    "#### 1.문제 정의\n",
    "호스풀 알고리즘"
   ]
  },
  {
   "cell_type": "markdown",
   "metadata": {},
   "source": [
    "#### 2. 알고리즘 설명\n",
    "텍스트 T와 패턴 P가 주어지고, T에서 P가 나타나는 위치를 찾아 반환하는 알고리즘"
   ]
  },
  {
   "cell_type": "markdown",
   "metadata": {},
   "source": [
    "#### 3. 손으로 푼 예제"
   ]
  },
  {
   "cell_type": "markdown",
   "metadata": {},
   "source": [
    "#### 4. 코드 개요\n",
    "\n",
    "함수 명 : shift_table(pat)\n",
    "\n",
    "매개변수 : \n",
    "m = len(pat) = 패턴의 길이\n",
    "tbl = [m]*NO_OF_CHARS =시프트 테이블\n",
    "\n",
    "출력 :\n",
    "\n",
    "tbl"
   ]
  },
  {
   "cell_type": "markdown",
   "metadata": {},
   "source": [
    "#### 5. 코드 \n"
   ]
  },
  {
   "cell_type": "code",
   "execution_count": null,
   "metadata": {},
   "outputs": [],
   "source": [
    "def search_horspool(T,P):\n",
    "    m = len(P)\n",
    "    n = len(T)\n",
    "    t = shift_table(P)\n",
    "    i = m-1\n",
    "    while(i<=n-1):\n",
    "        k=0\n",
    "    while k <= m-1 and P[m-1-k]==T[i-k]:\n",
    "        k+=1\n",
    "    if k ==m:\n",
    "        reutnr i-m+1\n",
    "    else :\n",
    "        tc = t[ord(T[i-k])]\n",
    "        i+=(tc-k)\n",
    "    return -1"
   ]
  },
  {
   "cell_type": "markdown",
   "metadata": {},
   "source": [
    "#### 6. 테스트 코드"
   ]
  },
  {
   "cell_type": "code",
   "execution_count": 9,
   "metadata": {},
   "outputs": [
    {
     "name": "stdout",
     "output_type": "stream",
     "text": [
      "패턴의 위치: 10\n"
     ]
    }
   ],
   "source": [
    "NO_OF_CHARS = 128\n",
    "\n",
    "def shift_table(pat):\n",
    "    m = len(pat)\n",
    "    tbl = [m]*NO_OF_CHARS\n",
    "\n",
    "    for i in range(m-1):\n",
    "        tbl[ord(pat[i])]=m-1-i\n",
    "\n",
    "    return tbl\n",
    "\n",
    "def search_horspool(T,P):\n",
    "    m = len(P)\n",
    "    n = len(T)\n",
    "    t = shift_table(P)\n",
    "    i = m-1\n",
    "    while(i<=n-1):\n",
    "        k=0\n",
    "        while k <= m-1 and P[m-1-k]==T[i-k]:\n",
    "            k+=1\n",
    "        if k == m:\n",
    "            return i-m+1\n",
    "        else :\n",
    "            tc = t[ord(T[i-k])]\n",
    "            i+=(tc-k)\n",
    "    return -1\n",
    "\n",
    "print(\"패턴의 위치:\",search_horspool(\"APPLEMANGOBANANAGRAPE\",\"BANANA\"))\n"
   ]
  },
  {
   "attachments": {
    "AL6.4_serch.png": {
     "image/png": "[encoded data removed]"
    }
   },
   "cell_type": "markdown",
   "metadata": {},
   "source": [
    "#### 7. 수행결과\n",
    "![AL6.4_serch.png](attachment:AL6.4_serch.png)"
   ]
  },
  {
   "cell_type": "markdown",
   "metadata": {},
   "source": [
    "#### 8. 복잡도 분석\n",
    "최악의 경우 6행의 외부 루프는 n-m번 반복한다. 또한 최악의 경우 하나의 위치에서 패턴을 비교하는데 패턴의 길이 (m)만큼의 비교가 필요하다. 따라서 최악아ㅢ 경우 시간복잡도는\n",
    " O(mn)이다."
   ]
  }
 ],
 "metadata": {
  "kernelspec": {
   "display_name": "Python 3",
   "language": "python",
   "name": "python3"
  },
  "language_info": {
   "codemirror_mode": {
    "name": "ipython",
    "version": 3
   },
   "file_extension": ".py",
   "mimetype": "text/x-python",
   "name": "python",
   "nbconvert_exporter": "python",
   "pygments_lexer": "ipython3",
   "version": "3.12.0"
  }
 },
 "nbformat": 4,
 "nbformat_minor": 2
}
